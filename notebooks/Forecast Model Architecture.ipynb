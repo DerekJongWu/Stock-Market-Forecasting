{
 "cells": [
  {
   "cell_type": "markdown",
   "id": "22667d57",
   "metadata": {},
   "source": [
    "# LSTM Architecture for Stock Market Forecasting"
   ]
  },
  {
   "cell_type": "markdown",
   "id": "eb267478",
   "metadata": {},
   "source": [
    "### Package Imports"
   ]
  },
  {
   "cell_type": "code",
   "execution_count": 2,
   "id": "1d6f65fa",
   "metadata": {},
   "outputs": [],
   "source": [
    "from sklearn.preprocessing import MinMaxScaler\n",
    "import torch \n",
    "import torch.nn as nn\n",
    "import yfinance"
   ]
  },
  {
   "cell_type": "markdown",
   "id": "468094d0",
   "metadata": {},
   "source": [
    "### Load Data"
   ]
  },
  {
   "cell_type": "code",
   "execution_count": 3,
   "id": "863d0f55",
   "metadata": {},
   "outputs": [],
   "source": [
    "name = 'GOOG'\n",
    "ticker = yfinance.Ticker(name)\n",
    "df = ticker.history(interval=\"1d\",start=\"2010-04-30\",end=\"2020-04-30\")"
   ]
  },
  {
   "cell_type": "code",
   "execution_count": 6,
   "id": "6e4fea3e",
   "metadata": {},
   "outputs": [],
   "source": [
    "# Normalize the features\n",
    "\n",
    "scaler = MinMaxScaler(feature_range=(-1, 1))\n",
    "df['Close'] = scaler.fit_transform(df['Close'].values.reshape(-1,1))"
   ]
  },
  {
   "cell_type": "code",
   "execution_count": 9,
   "id": "e8d7eb2d",
   "metadata": {},
   "outputs": [
    {
     "data": {
      "text/html": [
       "<div>\n",
       "<style scoped>\n",
       "    .dataframe tbody tr th:only-of-type {\n",
       "        vertical-align: middle;\n",
       "    }\n",
       "\n",
       "    .dataframe tbody tr th {\n",
       "        vertical-align: top;\n",
       "    }\n",
       "\n",
       "    .dataframe thead th {\n",
       "        text-align: right;\n",
       "    }\n",
       "</style>\n",
       "<table border=\"1\" class=\"dataframe\">\n",
       "  <thead>\n",
       "    <tr style=\"text-align: right;\">\n",
       "      <th></th>\n",
       "      <th>Open</th>\n",
       "      <th>High</th>\n",
       "      <th>Low</th>\n",
       "      <th>Close</th>\n",
       "      <th>Volume</th>\n",
       "    </tr>\n",
       "    <tr>\n",
       "      <th>Date</th>\n",
       "      <th></th>\n",
       "      <th></th>\n",
       "      <th></th>\n",
       "      <th></th>\n",
       "      <th></th>\n",
       "    </tr>\n",
       "  </thead>\n",
       "  <tbody>\n",
       "    <tr>\n",
       "      <th>2010-04-30</th>\n",
       "      <td>264.573303</td>\n",
       "      <td>267.836090</td>\n",
       "      <td>261.738953</td>\n",
       "      <td>-0.931808</td>\n",
       "      <td>4889057</td>\n",
       "    </tr>\n",
       "    <tr>\n",
       "      <th>2010-05-03</th>\n",
       "      <td>262.266968</td>\n",
       "      <td>265.464966</td>\n",
       "      <td>261.559601</td>\n",
       "      <td>-0.928080</td>\n",
       "      <td>3729527</td>\n",
       "    </tr>\n",
       "    <tr>\n",
       "      <th>2010-05-04</th>\n",
       "      <td>262.276917</td>\n",
       "      <td>262.386505</td>\n",
       "      <td>251.163574</td>\n",
       "      <td>-0.946515</td>\n",
       "      <td>12198151</td>\n",
       "    </tr>\n",
       "    <tr>\n",
       "      <th>2010-05-05</th>\n",
       "      <td>249.554611</td>\n",
       "      <td>256.897095</td>\n",
       "      <td>249.300568</td>\n",
       "      <td>-0.943935</td>\n",
       "      <td>9198750</td>\n",
       "    </tr>\n",
       "    <tr>\n",
       "      <th>2010-05-06</th>\n",
       "      <td>253.425095</td>\n",
       "      <td>257.793732</td>\n",
       "      <td>229.141129</td>\n",
       "      <td>-0.952373</td>\n",
       "      <td>10037683</td>\n",
       "    </tr>\n",
       "    <tr>\n",
       "      <th>...</th>\n",
       "      <td>...</td>\n",
       "      <td>...</td>\n",
       "      <td>...</td>\n",
       "      <td>...</td>\n",
       "      <td>...</td>\n",
       "    </tr>\n",
       "    <tr>\n",
       "      <th>2020-04-23</th>\n",
       "      <td>1271.550049</td>\n",
       "      <td>1293.310059</td>\n",
       "      <td>1265.670044</td>\n",
       "      <td>0.617586</td>\n",
       "      <td>1566200</td>\n",
       "    </tr>\n",
       "    <tr>\n",
       "      <th>2020-04-24</th>\n",
       "      <td>1261.170044</td>\n",
       "      <td>1280.400024</td>\n",
       "      <td>1249.449951</td>\n",
       "      <td>0.622168</td>\n",
       "      <td>1639600</td>\n",
       "    </tr>\n",
       "    <tr>\n",
       "      <th>2020-04-27</th>\n",
       "      <td>1296.000000</td>\n",
       "      <td>1296.150024</td>\n",
       "      <td>1269.000000</td>\n",
       "      <td>0.616929</td>\n",
       "      <td>1600600</td>\n",
       "    </tr>\n",
       "    <tr>\n",
       "      <th>2020-04-28</th>\n",
       "      <td>1287.930054</td>\n",
       "      <td>1288.050049</td>\n",
       "      <td>1232.199951</td>\n",
       "      <td>0.552460</td>\n",
       "      <td>2951300</td>\n",
       "    </tr>\n",
       "    <tr>\n",
       "      <th>2020-04-29</th>\n",
       "      <td>1341.459961</td>\n",
       "      <td>1359.989990</td>\n",
       "      <td>1325.339966</td>\n",
       "      <td>0.717122</td>\n",
       "      <td>3793600</td>\n",
       "    </tr>\n",
       "  </tbody>\n",
       "</table>\n",
       "<p>2517 rows × 5 columns</p>\n",
       "</div>"
      ],
      "text/plain": [
       "                   Open         High          Low     Close    Volume\n",
       "Date                                                                 \n",
       "2010-04-30   264.573303   267.836090   261.738953 -0.931808   4889057\n",
       "2010-05-03   262.266968   265.464966   261.559601 -0.928080   3729527\n",
       "2010-05-04   262.276917   262.386505   251.163574 -0.946515  12198151\n",
       "2010-05-05   249.554611   256.897095   249.300568 -0.943935   9198750\n",
       "2010-05-06   253.425095   257.793732   229.141129 -0.952373  10037683\n",
       "...                 ...          ...          ...       ...       ...\n",
       "2020-04-23  1271.550049  1293.310059  1265.670044  0.617586   1566200\n",
       "2020-04-24  1261.170044  1280.400024  1249.449951  0.622168   1639600\n",
       "2020-04-27  1296.000000  1296.150024  1269.000000  0.616929   1600600\n",
       "2020-04-28  1287.930054  1288.050049  1232.199951  0.552460   2951300\n",
       "2020-04-29  1341.459961  1359.989990  1325.339966  0.717122   3793600\n",
       "\n",
       "[2517 rows x 5 columns]"
      ]
     },
     "execution_count": 9,
     "metadata": {},
     "output_type": "execute_result"
    }
   ],
   "source": [
    "feature_columns = ['Open', 'High', 'Low', 'Close', \"Volume\"]\n",
    "df_data = df[feature_columns]\n",
    "\n"
   ]
  },
  {
   "cell_type": "code",
   "execution_count": null,
   "id": "4a3bc883",
   "metadata": {},
   "outputs": [],
   "source": [
    "class LSTM_predictor(nn.Module): \n",
    "    \n",
    "    def __init__(self, input_dim, hidden_dim, num_layers, output_dim):\n",
    "        super(LSTM_predictor, self).__init__()\n",
    "        self.hidden_dim = hidden_dim\n",
    "        self.num_layers = num_layers\n",
    "        self.lstm = nn.LSTM(input_dim, hidden_dim, num_layers, batch_first=True)\n",
    "        self.fc = nn.Linear(hidden_dim, output_dim)\n",
    "        \n",
    "    def forward(self, x): \n",
    "        h0 = torch.zeros(self.num_layers, x.size(0), self.hidden_dim).requires_grad_()\n",
    "        c0 = torch.zeros(self.num_layers, x.size(0), self.hidden_dim).requires_grad_()\n",
    "        out, (hn, cn) = self.lstm(x, (h0.detach(), c0.detach()))\n",
    "        out = self.fc(out[:, -1, :])\n",
    "        return out"
   ]
  },
  {
   "cell_type": "code",
   "execution_count": null,
   "id": "eccc4fa8",
   "metadata": {},
   "outputs": [],
   "source": []
  }
 ],
 "metadata": {
  "kernelspec": {
   "display_name": "Python 3",
   "language": "python",
   "name": "python3"
  },
  "language_info": {
   "codemirror_mode": {
    "name": "ipython",
    "version": 3
   },
   "file_extension": ".py",
   "mimetype": "text/x-python",
   "name": "python",
   "nbconvert_exporter": "python",
   "pygments_lexer": "ipython3",
   "version": "3.7.12"
  }
 },
 "nbformat": 4,
 "nbformat_minor": 5
}
