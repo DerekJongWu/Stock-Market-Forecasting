{
 "cells": [
  {
   "cell_type": "markdown",
   "id": "5381e7a9",
   "metadata": {},
   "source": [
    "# Data Exploration of Amazon Stock"
   ]
  },
  {
   "cell_type": "markdown",
   "id": "cee1dd69",
   "metadata": {},
   "source": [
    "##### This notebook will explore the data downloaded from yahoo stocks  (https://finance.yahoo.com/quote/AMZN/history?p=AMZN) for use in the forecasting model"
   ]
  },
  {
   "cell_type": "markdown",
   "id": "725b24d9",
   "metadata": {},
   "source": [
    "### Package Imports"
   ]
  },
  {
   "cell_type": "code",
   "execution_count": 14,
   "id": "1479f5a6",
   "metadata": {},
   "outputs": [],
   "source": [
    "import pandas as pd\n",
    "import numpy as np\n",
    "import os"
   ]
  },
  {
   "cell_type": "markdown",
   "id": "b8ff42dd",
   "metadata": {},
   "source": [
    "### Load CSV file into DataFrame"
   ]
  },
  {
   "cell_type": "code",
   "execution_count": 18,
   "id": "7ccc1922",
   "metadata": {},
   "outputs": [],
   "source": [
    "project_path='C:/Users/wuder/Desktop/Stock-Market-Forecasting/'\n",
    "data_path='data/AMZN.csv'"
   ]
  },
  {
   "cell_type": "code",
   "execution_count": 16,
   "id": "916ec268",
   "metadata": {},
   "outputs": [],
   "source": [
    "df=pd.read_csv(project_path+data_path)"
   ]
  },
  {
   "cell_type": "code",
   "execution_count": 17,
   "id": "1a2bb7ae",
   "metadata": {},
   "outputs": [
    {
     "data": {
      "text/html": [
       "<div>\n",
       "<style scoped>\n",
       "    .dataframe tbody tr th:only-of-type {\n",
       "        vertical-align: middle;\n",
       "    }\n",
       "\n",
       "    .dataframe tbody tr th {\n",
       "        vertical-align: top;\n",
       "    }\n",
       "\n",
       "    .dataframe thead th {\n",
       "        text-align: right;\n",
       "    }\n",
       "</style>\n",
       "<table border=\"1\" class=\"dataframe\">\n",
       "  <thead>\n",
       "    <tr style=\"text-align: right;\">\n",
       "      <th></th>\n",
       "      <th>Date</th>\n",
       "      <th>Open</th>\n",
       "      <th>High</th>\n",
       "      <th>Low</th>\n",
       "      <th>Close</th>\n",
       "      <th>Adj Close</th>\n",
       "      <th>Volume</th>\n",
       "    </tr>\n",
       "  </thead>\n",
       "  <tbody>\n",
       "    <tr>\n",
       "      <th>0</th>\n",
       "      <td>2020-04-20</td>\n",
       "      <td>2389.949951</td>\n",
       "      <td>2444.979980</td>\n",
       "      <td>2386.050049</td>\n",
       "      <td>2393.610107</td>\n",
       "      <td>2393.610107</td>\n",
       "      <td>5770700</td>\n",
       "    </tr>\n",
       "    <tr>\n",
       "      <th>1</th>\n",
       "      <td>2020-04-21</td>\n",
       "      <td>2416.610107</td>\n",
       "      <td>2428.310059</td>\n",
       "      <td>2279.659912</td>\n",
       "      <td>2328.120117</td>\n",
       "      <td>2328.120117</td>\n",
       "      <td>7476700</td>\n",
       "    </tr>\n",
       "    <tr>\n",
       "      <th>2</th>\n",
       "      <td>2020-04-22</td>\n",
       "      <td>2369.000000</td>\n",
       "      <td>2394.000000</td>\n",
       "      <td>2351.000000</td>\n",
       "      <td>2363.489990</td>\n",
       "      <td>2363.489990</td>\n",
       "      <td>4218300</td>\n",
       "    </tr>\n",
       "    <tr>\n",
       "      <th>3</th>\n",
       "      <td>2020-04-23</td>\n",
       "      <td>2399.979980</td>\n",
       "      <td>2424.219971</td>\n",
       "      <td>2382.080078</td>\n",
       "      <td>2399.449951</td>\n",
       "      <td>2399.449951</td>\n",
       "      <td>5066600</td>\n",
       "    </tr>\n",
       "    <tr>\n",
       "      <th>4</th>\n",
       "      <td>2020-04-24</td>\n",
       "      <td>2417.000000</td>\n",
       "      <td>2420.429932</td>\n",
       "      <td>2382.000000</td>\n",
       "      <td>2410.219971</td>\n",
       "      <td>2410.219971</td>\n",
       "      <td>3831800</td>\n",
       "    </tr>\n",
       "    <tr>\n",
       "      <th>...</th>\n",
       "      <td>...</td>\n",
       "      <td>...</td>\n",
       "      <td>...</td>\n",
       "      <td>...</td>\n",
       "      <td>...</td>\n",
       "      <td>...</td>\n",
       "      <td>...</td>\n",
       "    </tr>\n",
       "    <tr>\n",
       "      <th>246</th>\n",
       "      <td>2021-04-12</td>\n",
       "      <td>3355.209961</td>\n",
       "      <td>3395.040039</td>\n",
       "      <td>3351.149902</td>\n",
       "      <td>3379.389893</td>\n",
       "      <td>3379.389893</td>\n",
       "      <td>3281800</td>\n",
       "    </tr>\n",
       "    <tr>\n",
       "      <th>247</th>\n",
       "      <td>2021-04-13</td>\n",
       "      <td>3400.850098</td>\n",
       "      <td>3432.000000</td>\n",
       "      <td>3395.629883</td>\n",
       "      <td>3400.000000</td>\n",
       "      <td>3400.000000</td>\n",
       "      <td>3315800</td>\n",
       "    </tr>\n",
       "    <tr>\n",
       "      <th>248</th>\n",
       "      <td>2021-04-14</td>\n",
       "      <td>3404.040039</td>\n",
       "      <td>3404.129883</td>\n",
       "      <td>3326.000000</td>\n",
       "      <td>3333.000000</td>\n",
       "      <td>3333.000000</td>\n",
       "      <td>3145200</td>\n",
       "    </tr>\n",
       "    <tr>\n",
       "      <th>249</th>\n",
       "      <td>2021-04-15</td>\n",
       "      <td>3371.000000</td>\n",
       "      <td>3397.000000</td>\n",
       "      <td>3352.000000</td>\n",
       "      <td>3379.090088</td>\n",
       "      <td>3379.090088</td>\n",
       "      <td>3233600</td>\n",
       "    </tr>\n",
       "    <tr>\n",
       "      <th>250</th>\n",
       "      <td>2021-04-16</td>\n",
       "      <td>3380.000000</td>\n",
       "      <td>3406.800049</td>\n",
       "      <td>3355.590088</td>\n",
       "      <td>3399.439941</td>\n",
       "      <td>3399.439941</td>\n",
       "      <td>3183300</td>\n",
       "    </tr>\n",
       "  </tbody>\n",
       "</table>\n",
       "<p>251 rows × 7 columns</p>\n",
       "</div>"
      ],
      "text/plain": [
       "           Date         Open         High          Low        Close  \\\n",
       "0    2020-04-20  2389.949951  2444.979980  2386.050049  2393.610107   \n",
       "1    2020-04-21  2416.610107  2428.310059  2279.659912  2328.120117   \n",
       "2    2020-04-22  2369.000000  2394.000000  2351.000000  2363.489990   \n",
       "3    2020-04-23  2399.979980  2424.219971  2382.080078  2399.449951   \n",
       "4    2020-04-24  2417.000000  2420.429932  2382.000000  2410.219971   \n",
       "..          ...          ...          ...          ...          ...   \n",
       "246  2021-04-12  3355.209961  3395.040039  3351.149902  3379.389893   \n",
       "247  2021-04-13  3400.850098  3432.000000  3395.629883  3400.000000   \n",
       "248  2021-04-14  3404.040039  3404.129883  3326.000000  3333.000000   \n",
       "249  2021-04-15  3371.000000  3397.000000  3352.000000  3379.090088   \n",
       "250  2021-04-16  3380.000000  3406.800049  3355.590088  3399.439941   \n",
       "\n",
       "       Adj Close   Volume  \n",
       "0    2393.610107  5770700  \n",
       "1    2328.120117  7476700  \n",
       "2    2363.489990  4218300  \n",
       "3    2399.449951  5066600  \n",
       "4    2410.219971  3831800  \n",
       "..           ...      ...  \n",
       "246  3379.389893  3281800  \n",
       "247  3400.000000  3315800  \n",
       "248  3333.000000  3145200  \n",
       "249  3379.090088  3233600  \n",
       "250  3399.439941  3183300  \n",
       "\n",
       "[251 rows x 7 columns]"
      ]
     },
     "execution_count": 17,
     "metadata": {},
     "output_type": "execute_result"
    }
   ],
   "source": [
    "df"
   ]
  },
  {
   "cell_type": "code",
   "execution_count": null,
   "id": "895700ea",
   "metadata": {},
   "outputs": [],
   "source": []
  }
 ],
 "metadata": {
  "kernelspec": {
   "display_name": "Python 3",
   "language": "python",
   "name": "python3"
  },
  "language_info": {
   "codemirror_mode": {
    "name": "ipython",
    "version": 3
   },
   "file_extension": ".py",
   "mimetype": "text/x-python",
   "name": "python",
   "nbconvert_exporter": "python",
   "pygments_lexer": "ipython3",
   "version": "3.6.13"
  }
 },
 "nbformat": 4,
 "nbformat_minor": 5
}
