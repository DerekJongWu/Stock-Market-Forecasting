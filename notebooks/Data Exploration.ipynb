{
 "cells": [
  {
   "cell_type": "markdown",
   "id": "5381e7a9",
   "metadata": {},
   "source": [
    "# Data Exploration of Amazon Stock"
   ]
  },
  {
   "cell_type": "markdown",
   "id": "cee1dd69",
   "metadata": {},
   "source": [
    "##### This notebook will explore the data downloaded from yahoo stocks for use in the forecasting model. Data will be loaded using the yfinance package"
   ]
  },
  {
   "cell_type": "markdown",
   "id": "725b24d9",
   "metadata": {},
   "source": [
    "### Package Imports"
   ]
  },
  {
   "cell_type": "code",
   "execution_count": 2,
   "id": "1479f5a6",
   "metadata": {},
   "outputs": [],
   "source": [
    "import pandas as pd\n",
    "import numpy as np\n",
    "import os\n",
    "import yfinance\n",
    "import matplotlib.pyplot as plt\n",
    "%matplotlib inline"
   ]
  },
  {
   "cell_type": "markdown",
   "id": "b8ff42dd",
   "metadata": {},
   "source": [
    "### Load CSV file into DataFrame"
   ]
  },
  {
   "cell_type": "code",
   "execution_count": 3,
   "id": "7ccc1922",
   "metadata": {},
   "outputs": [],
   "source": [
    "name = 'GOOG'\n",
    "ticker = yfinance.Ticker(name)\n",
    "df = ticker.history(interval=\"1d\",start=\"2010-04-30\",end=\"2020-04-30\")"
   ]
  },
  {
   "cell_type": "code",
   "execution_count": 4,
   "id": "1a2bb7ae",
   "metadata": {},
   "outputs": [
    {
     "data": {
      "text/html": [
       "<div>\n",
       "<style scoped>\n",
       "    .dataframe tbody tr th:only-of-type {\n",
       "        vertical-align: middle;\n",
       "    }\n",
       "\n",
       "    .dataframe tbody tr th {\n",
       "        vertical-align: top;\n",
       "    }\n",
       "\n",
       "    .dataframe thead th {\n",
       "        text-align: right;\n",
       "    }\n",
       "</style>\n",
       "<table border=\"1\" class=\"dataframe\">\n",
       "  <thead>\n",
       "    <tr style=\"text-align: right;\">\n",
       "      <th></th>\n",
       "      <th>Open</th>\n",
       "      <th>High</th>\n",
       "      <th>Low</th>\n",
       "      <th>Close</th>\n",
       "      <th>Volume</th>\n",
       "      <th>Dividends</th>\n",
       "      <th>Stock Splits</th>\n",
       "    </tr>\n",
       "    <tr>\n",
       "      <th>Date</th>\n",
       "      <th></th>\n",
       "      <th></th>\n",
       "      <th></th>\n",
       "      <th></th>\n",
       "      <th></th>\n",
       "      <th></th>\n",
       "      <th></th>\n",
       "    </tr>\n",
       "  </thead>\n",
       "  <tbody>\n",
       "    <tr>\n",
       "      <th>2010-04-30</th>\n",
       "      <td>264.573303</td>\n",
       "      <td>267.836090</td>\n",
       "      <td>261.738953</td>\n",
       "      <td>261.868439</td>\n",
       "      <td>4889057</td>\n",
       "      <td>0</td>\n",
       "      <td>0.0</td>\n",
       "    </tr>\n",
       "    <tr>\n",
       "      <th>2010-05-03</th>\n",
       "      <td>262.266968</td>\n",
       "      <td>265.464966</td>\n",
       "      <td>261.559601</td>\n",
       "      <td>264.309296</td>\n",
       "      <td>3729527</td>\n",
       "      <td>0</td>\n",
       "      <td>0.0</td>\n",
       "    </tr>\n",
       "    <tr>\n",
       "      <th>2010-05-04</th>\n",
       "      <td>262.276917</td>\n",
       "      <td>262.386505</td>\n",
       "      <td>251.163574</td>\n",
       "      <td>252.239548</td>\n",
       "      <td>12198151</td>\n",
       "      <td>0</td>\n",
       "      <td>0.0</td>\n",
       "    </tr>\n",
       "    <tr>\n",
       "      <th>2010-05-05</th>\n",
       "      <td>249.554611</td>\n",
       "      <td>256.897095</td>\n",
       "      <td>249.300568</td>\n",
       "      <td>253.928207</td>\n",
       "      <td>9198750</td>\n",
       "      <td>0</td>\n",
       "      <td>0.0</td>\n",
       "    </tr>\n",
       "    <tr>\n",
       "      <th>2010-05-06</th>\n",
       "      <td>253.425095</td>\n",
       "      <td>257.793732</td>\n",
       "      <td>229.141129</td>\n",
       "      <td>248.403915</td>\n",
       "      <td>10037683</td>\n",
       "      <td>0</td>\n",
       "      <td>0.0</td>\n",
       "    </tr>\n",
       "  </tbody>\n",
       "</table>\n",
       "</div>"
      ],
      "text/plain": [
       "                  Open        High         Low       Close    Volume  \\\n",
       "Date                                                                   \n",
       "2010-04-30  264.573303  267.836090  261.738953  261.868439   4889057   \n",
       "2010-05-03  262.266968  265.464966  261.559601  264.309296   3729527   \n",
       "2010-05-04  262.276917  262.386505  251.163574  252.239548  12198151   \n",
       "2010-05-05  249.554611  256.897095  249.300568  253.928207   9198750   \n",
       "2010-05-06  253.425095  257.793732  229.141129  248.403915  10037683   \n",
       "\n",
       "            Dividends  Stock Splits  \n",
       "Date                                 \n",
       "2010-04-30          0           0.0  \n",
       "2010-05-03          0           0.0  \n",
       "2010-05-04          0           0.0  \n",
       "2010-05-05          0           0.0  \n",
       "2010-05-06          0           0.0  "
      ]
     },
     "execution_count": 4,
     "metadata": {},
     "output_type": "execute_result"
    }
   ],
   "source": [
    "df.head()"
   ]
  },
  {
   "cell_type": "code",
   "execution_count": 5,
   "id": "895700ea",
   "metadata": {},
   "outputs": [
    {
     "data": {
      "text/plain": [
       "<matplotlib.axes._subplots.AxesSubplot at 0x1baa1894438>"
      ]
     },
     "execution_count": 5,
     "metadata": {},
     "output_type": "execute_result"
    },
    {
     "data": {
      "image/png": "[encoded data removed]",
      "text/plain": [
       "<Figure size 432x288 with 1 Axes>"
      ]
     },
     "metadata": {
      "needs_background": "light"
     },
     "output_type": "display_data"
    }
   ],
   "source": [
    "df['Close'].plot()"
   ]
  },
  {
   "cell_type": "code",
   "execution_count": 6,
   "id": "51cf89c7",
   "metadata": {},
   "outputs": [],
   "source": [
    "df['Daily Lag'] = df['Close'].shift(1)"
   ]
  },
  {
   "cell_type": "code",
   "execution_count": 7,
   "id": "7be3c975",
   "metadata": {},
   "outputs": [],
   "source": [
    "df['Daily Returns'] = (df['Daily Lag']/df['Close']) -1"
   ]
  },
  {
   "cell_type": "code",
   "execution_count": 8,
   "id": "0e7fe134",
   "metadata": {},
   "outputs": [
    {
     "data": {
      "text/plain": [
       "<matplotlib.axes._subplots.AxesSubplot at 0x1baa1a0fcc0>"
      ]
     },
     "execution_count": 8,
     "metadata": {},
     "output_type": "execute_result"
    },
    {
     "data": {
      "image/png": "[encoded data removed]",
      "text/plain": [
       "<Figure size 432x288 with 1 Axes>"
      ]
     },
     "metadata": {
      "needs_background": "light"
     },
     "output_type": "display_data"
    }
   ],
   "source": [
    "df['Daily Returns'].hist()"
   ]
  },
  {
   "cell_type": "code",
   "execution_count": 9,
   "id": "77746305",
   "metadata": {},
   "outputs": [
    {
     "name": "stdout",
     "output_type": "stream",
     "text": [
      "mean = -0.0005172482707532716\n",
      "Std deviation = 0.016213803285524596\n"
     ]
    }
   ],
   "source": [
    "mean = df['Daily Returns'].mean()\n",
    "std = df['Daily Returns'].std()\n",
    "print('mean =',mean)\n",
    "print('Std deviation =',std)"
   ]
  }
 ],
 "metadata": {
  "kernelspec": {
   "display_name": "Python 3",
   "language": "python",
   "name": "python3"
  },
  "language_info": {
   "codemirror_mode": {
    "name": "ipython",
    "version": 3
   },
   "file_extension": ".py",
   "mimetype": "text/x-python",
   "name": "python",
   "nbconvert_exporter": "python",
   "pygments_lexer": "ipython3",
   "version": "3.6.13"
  }
 },
 "nbformat": 4,
 "nbformat_minor": 5
}
